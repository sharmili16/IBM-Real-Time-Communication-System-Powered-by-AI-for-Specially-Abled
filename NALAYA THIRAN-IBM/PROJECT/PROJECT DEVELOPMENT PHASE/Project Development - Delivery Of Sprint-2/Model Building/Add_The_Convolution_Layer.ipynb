{
  "nbformat": 4,
  "nbformat_minor": 0,
  "metadata": {
    "colab": {
      "provenance": [],
      "collapsed_sections": []
    },
    "kernelspec": {
      "name": "python3",
      "display_name": "Python 3"
    },
    "language_info": {
      "name": "python"
    }
  },
  "cells": [
    {
      "cell_type": "markdown",
      "source": [
        "# **Model Building**"
      ],
      "metadata": {
        "id": "GEOAA3jBgQ2d"
      }
    },
    {
      "cell_type": "markdown",
      "source": [
        "### Adding The Convolution Layer"
      ],
      "metadata": {
        "id": "Lf_GjCzHgZKq"
      }
    },
    {
      "cell_type": "code",
      "source": [
        "import numpy as np\n",
        "import matplotlib.pyplot as plt"
      ],
      "metadata": {
        "id": "lKhAobm6g8rr"
      },
      "execution_count": null,
      "outputs": []
    },
    {
      "cell_type": "code",
      "execution_count": null,
      "metadata": {
        "id": "iy2QXRwJeOqr"
      },
      "outputs": [],
      "source": [
        "from tensorflow.keras.preprocessing.image import ImageDataGenerator"
      ]
    },
    {
      "cell_type": "code",
      "source": [
        "# Training Datagen\n",
        "train_datagen = ImageDataGenerator(rescale=1/255,zoom_range=0.2,horizontal_flip=True,vertical_flip=False)\n",
        "# Testing Datagen\n",
        "test_datagen = ImageDataGenerator(rescale=1/255)\n"
      ],
      "metadata": {
        "id": "AdFUXM70fmPj"
      },
      "execution_count": null,
      "outputs": []
    },
    {
      "cell_type": "code",
      "source": [
        "# Training Dataset\n",
        "x_train=train_datagen.flow_from_directory(r'/content/drive/MyDrive/Dataset/training_set',target_size=(64,64), class_mode='categorical',batch_size=900)\n",
        "# Testing Dataset\n",
        "x_test=test_datagen.flow_from_directory(r'/content/drive/MyDrive/Dataset/test_set',target_size=(64,64), class_mode='categorical',batch_size=900)\n"
      ],
      "metadata": {
        "colab": {
          "base_uri": "https://localhost:8080/"
        },
        "id": "-SpHowmAgu7_",
        "outputId": "a456a77d-b9dc-47cb-b942-67453f1a81b7"
      },
      "execution_count": null,
      "outputs": [
        {
          "output_type": "stream",
          "name": "stdout",
          "text": [
            "Found 15760 images belonging to 9 classes.\n",
            "Found 2250 images belonging to 9 classes.\n"
          ]
        }
      ]
    },
    {
      "cell_type": "code",
      "source": [
        "\n",
        "  \n",
        "# let img1 be an image with no features\n",
        "img1 = np.array([np.array([200, 200]), np.array([200, 200])])\n",
        "img2 = np.array([np.array([200, 200]), np.array([0, 0])])\n",
        "img3 = np.array([np.array([200, 0]), np.array([200, 0])])\n",
        "  \n",
        "kernel_horizontal = np.array([np.array([2, 2]), np.array([-2, -2])])\n",
        "print(kernel_horizontal, 'is a kernel for detecting horizontal edges')\n",
        "  \n",
        "kernel_vertical = np.array([np.array([2, -2]), np.array([2, -2])])\n",
        "print(kernel_vertical, 'is a kernel for detecting vertical edges')\n",
        " "
      ],
      "metadata": {
        "id": "Sv1D8b1zg5wE"
      },
      "execution_count": null,
      "outputs": []
    },
    {
      "cell_type": "code",
      "source": [
        " \n",
        "# We will apply the kernels on the images by\n",
        "# elementwise multiplication followed by summation\n",
        "def apply_kernel(img, kernel):\n",
        "    return np.sum(np.multiply(img, kernel))\n",
        "  \n",
        "# Visualizing img1\n",
        "plt.imshow(img1)\n",
        "plt.axis('off')\n",
        "plt.title('img1')\n",
        "plt.show()\n",
        "\n",
        "# Checking for horizontal and vertical features in image1\n",
        "print('Horizontal edge confidence score:', apply_kernel(img1, \n",
        "                                            kernel_horizontal))\n",
        "print('Vertical edge confidence score:', apply_kernel(img1, \n",
        "                                            kernel_vertical))\n",
        " \n"
      ],
      "metadata": {
        "id": "69IgFfE9g_xE"
      },
      "execution_count": null,
      "outputs": []
    },
    {
      "cell_type": "code",
      "source": [
        "  \n",
        " \n",
        "# Visualizing img2\n",
        "plt.imshow(img2)\n",
        "plt.axis('off')\n",
        "plt.title('img2')\n",
        "plt.show()\n",
        "\n",
        "# Checking for horizontal and vertical features in image2\n",
        "print('Horizontal edge confidence score:', apply_kernel(img2, \n",
        "                                            kernel_horizontal))\n",
        "print('Vertical edge confidence score:', apply_kernel(img2, \n",
        "                                            kernel_vertical))\n",
        "  "
      ],
      "metadata": {
        "id": "VAVVh3vLhC9r"
      },
      "execution_count": null,
      "outputs": []
    },
    {
      "cell_type": "code",
      "source": [
        "  \n",
        "\n",
        "# Visualizing img3\n",
        "plt.imshow(img3)\n",
        "plt.axis('off')\n",
        "plt.title('img3')\n",
        "plt.show()\n",
        "  \n",
        "# Checking for horizontal and vertical features in image3\n",
        "print('Horizontal edge confidence score:', apply_kernel(img3, \n",
        "                                            kernel_horizontal))\n",
        "print('Vertical edge confidence score:', apply_kernel(img3, \n",
        "                                            kernel_vertical))"
      ],
      "metadata": {
        "id": "5GDCByLJhHrr"
      },
      "execution_count": null,
      "outputs": []
    },
    {
      "cell_type": "code",
      "source": [
        "print(\"Len x-train : \", len(x_train))\n",
        "print(\"Len x-test : \", len(x_test))"
      ],
      "metadata": {
        "colab": {
          "base_uri": "https://localhost:8080/"
        },
        "id": "2qLcDqP4jgPT",
        "outputId": "4bf5a506-506c-44ac-9f13-040570b3643a"
      },
      "execution_count": null,
      "outputs": [
        {
          "output_type": "stream",
          "name": "stdout",
          "text": [
            "Len x-train :  18\n",
            "Len x-test :  3\n"
          ]
        }
      ]
    },
    {
      "cell_type": "code",
      "source": [
        "# The Class Indices in Training Dataset\n",
        "x_train.class_indices"
      ],
      "metadata": {
        "colab": {
          "base_uri": "https://localhost:8080/"
        },
        "id": "V9Z-Rvl1jh-Q",
        "outputId": "d67bde72-545f-4820-84f5-2885822f7c10"
      },
      "execution_count": null,
      "outputs": [
        {
          "output_type": "execute_result",
          "data": {
            "text/plain": [
              "{'A': 0, 'B': 1, 'C': 2, 'D': 3, 'E': 4, 'F': 5, 'G': 6, 'H': 7, 'I': 8}"
            ]
          },
          "metadata": {},
          "execution_count": 8
        }
      ]
    },
    {
      "cell_type": "markdown",
      "source": [
        "**Model Creation**"
      ],
      "metadata": {
        "id": "5yHOh0Bhl5F9"
      }
    },
    {
      "cell_type": "code",
      "source": [
        "# Importing Libraries\n",
        "from tensorflow.keras.models import Sequential\n",
        "from tensorflow.keras.layers import Convolution2D,MaxPooling2D,Flatten,Dense"
      ],
      "metadata": {
        "id": "ycQhnJ3om87I"
      },
      "execution_count": null,
      "outputs": []
    },
    {
      "cell_type": "code",
      "source": [
        "# Creating Model\n",
        "model=Sequential()"
      ],
      "metadata": {
        "id": "IVNzGYblocSh"
      },
      "execution_count": null,
      "outputs": []
    },
    {
      "cell_type": "code",
      "source": [
        "# Adding Layers\n",
        "model.add(Convolution2D(32,(3,3),activation='relu',input_shape=(64,64,3)))"
      ],
      "metadata": {
        "id": "G7kEjSISpDs7"
      },
      "execution_count": null,
      "outputs": []
    }
  ]
}