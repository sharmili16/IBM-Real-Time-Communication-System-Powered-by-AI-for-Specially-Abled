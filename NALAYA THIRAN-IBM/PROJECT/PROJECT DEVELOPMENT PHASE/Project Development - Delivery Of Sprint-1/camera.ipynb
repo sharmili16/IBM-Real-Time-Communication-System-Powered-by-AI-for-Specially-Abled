{
  "nbformat": 4,
  "nbformat_minor": 0,
  "metadata": {
    "colab": {
      "provenance": []
    },
    "kernelspec": {
      "name": "python3",
      "display_name": "Python 3"
    },
    "language_info": {
      "name": "python"
    }
  },
  "cells": [
    {
      "cell_type": "code",
      "execution_count": 1,
      "metadata": {
        "id": "HTC52eGE7V19"
      },
      "outputs": [],
      "source": [
        "import cv2\n",
        "import numpy as np\n",
        "from tensorflow.keras.models import load_model\n",
        "from tensorflow.keras.preprocessing import image"
      ]
    },
    {
      "cell_type": "code",
      "source": [
        "class Video(object):\n",
        "\tdef __init__(self):\n",
        "\t\tself.video = cv2.VideoCapture(0)\n",
        "\t\tself.roi_start = (50, 150)\n",
        "\t\tself.roi_end = (250, 350)\n",
        "\t\tself.model = load_model('asl_model.h5') # Execute Local Trained Model\n",
        "\t\t# self.model = load_model('IBM_Communication_Model.h5') # Execute IBM Trained Model\n",
        "\t\tself.index=['A','B','C','D','E','F','G','H','I']\n",
        "\t\tself.y = None"
      ],
      "metadata": {
        "id": "ixuRBdKj7iP4"
      },
      "execution_count": 4,
      "outputs": []
    },
    {
      "cell_type": "code",
      "source": [
        "\tdef __del__(self):\n",
        "\t\tself.video.release()\n",
        "\tdef get_frame(self):\n",
        "\t\tret,frame = self.video.read()\n",
        "\t\tframe = cv2.resize(frame, (640, 480))\n",
        "\t\tcopy = frame.copy()\n",
        "\t\tcopy = copy[150:150+200,50:50+200]\n"
      ],
      "metadata": {
        "id": "DOjMYOzo8MKD"
      },
      "execution_count": 5,
      "outputs": []
    },
    {
      "cell_type": "code",
      "source": [
        "\t\t# Prediction Start\n",
        "\t\tcv2.imwrite('image.jpg',copy)\n",
        "\t\tcopy_img = image.load_img('image.jpg', target_size=(64,64))\n",
        "\t\tx = image.img_to_array(copy_img)\n",
        "\t\tx = np.expand_dims(x, axis=0)\n",
        "\t\tpred = np.argmax(self.model.predict(x), axis=1)\n",
        "\t\tself.y = pred[0]\n",
        "\t\tcv2.putText(frame,'The Predicted Alphabet is: '+str(self.index[self.y]),(100,50),cv2.FONT_HERSHEY_SIMPLEX,1,(0,0,0),3)\n",
        "\t\tret,jpg = cv2.imencode('.jpg', frame)\n",
        "\t\treturn jpg.tobytes()"
      ],
      "metadata": {
        "id": "pqj-FlwP8Rfg"
      },
      "execution_count": null,
      "outputs": []
    }
  ]
}